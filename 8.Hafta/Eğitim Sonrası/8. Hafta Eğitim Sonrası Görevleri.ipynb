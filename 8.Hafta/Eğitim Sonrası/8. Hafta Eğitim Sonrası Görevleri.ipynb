{
 "cells": [
  {
   "attachments": {},
   "cell_type": "markdown",
   "metadata": {},
   "source": [
    "# Problem 1\n",
    "\n",
    "Şimdi beraber kullanıcılardan aldığımız verileri işleyerek, onlara hem çıktı verecek, hem de aldığımız ve hesapladığımız verileri ileride kullanabilmek adına kaydedeceğiz.\n",
    "\n",
    "\n",
    " **Bu bir veri giriş platformu olacak**\n",
    "\n",
    "\n",
    " * kullanıcıya kaç giriş yapacağını soracağız\n",
    "* kullanıcıdan isim-soyisim, yaş, boy, kilo bilgilerini alarak VKİ hesaplayacağız\n",
    "* ardından bunları sınıflara göre kaydedeceğiz bir dosyaya kaydedeceğiz\n",
    "\n",
    "\n",
    "Sınıflar ise şu şekilde: \n",
    "* 18, 5 kg/m.'nin altında olanlar: Zayıf\n",
    "* 18.5 – 24, 9 kg/m. arasında olanlar: Normal kilolu\n",
    "* 25 – 29, 9 kg/m. arasında olanlar: Fazla kilolu\n",
    "* 30 – 39, 9 kg/m. arasında olanlar: Obez\n",
    "* 40 kg/m.'nin üzerinde olanlar: İleri derecede obez (morbid obez), olarak görülür."
   ]
  },
  {
   "cell_type": "code",
   "execution_count": 12,
   "metadata": {},
   "outputs": [
    {
     "name": "stdout",
     "output_type": "stream",
     "text": [
      "Veriler başarıyla kaydedildi.\n"
     ]
    }
   ],
   "source": [
    "class VeriGirisi:\n",
    "    def __init__(self):\n",
    "        self.kullanici_sayisi = 0\n",
    "        self.veriler = []\n",
    "        \n",
    "    def giris_al(self):\n",
    "        self.kullanici_sayisi = int(input(\"Kaç kişi için giriş yapacağınızı giriniz: \"))\n",
    "        for i in range(self.kullanici_sayisi):\n",
    "            ad_soyad = input(\"{}. Kişinin İsim Soyismini Giriniz: \".format(i+1))\n",
    "            yas = int(input(\"{}. Kişinin Yaşını Giriniz: \".format(i+1)))\n",
    "            boy = float(input(\"{}. Kişinin Boyunu (Metre Cinsinden) Giriniz: \".format(i+1)))\n",
    "            kilo = float(input(\"{}. Kişinin Kilosunu Giriniz: \".format(i+1)))\n",
    "            self.veriler.append((ad_soyad, yas, boy, kilo))\n",
    "        \n",
    "    def vki_hesaplama(self, veri):\n",
    "        ad_soyad, yas, boy, kilo = veri\n",
    "        vki = kilo / (boy ** 2)\n",
    "        if vki < 18.5:\n",
    "            return \"Zayıf\"\n",
    "        elif vki < 25:\n",
    "            return \"Normal kilolu\"\n",
    "        elif vki < 30:\n",
    "            return \"Fazla kilolu\"\n",
    "        elif vki < 40:\n",
    "            return \"Obez\"\n",
    "        else:\n",
    "            return \"İleri derecede obez\"\n",
    "        \n",
    "    def kaydet(self):\n",
    "        with open(\"veriler.txt\", \"w\",encoding = \"utf-8\") as file:\n",
    "            for i, veri in enumerate(self.veriler):\n",
    "                ad_soyad, yas, boy, kilo = veri\n",
    "                vki = self.vki_hesaplama(veri)\n",
    "                file.write(\"{} \\t {} \\t {} \\t {} \\t {} \\t {} \\n\".format(i+1, ad_soyad, yas, boy, vki, kilo))\n",
    "        print(\"Veriler başarıyla kaydedildi.\")\n",
    "\n",
    "\n",
    "run = VeriGirisi()\n",
    "run.giris_al()\n",
    "run.kaydet()\n",
    "\n"
   ]
  },
  {
   "attachments": {},
   "cell_type": "markdown",
   "metadata": {},
   "source": [
    "# Problem 2\n",
    "**YetBar - Smoothie Bank**\n",
    "---\n",
    "YetBar spor salonunun girişinde bulunan, insansız bir sağlıklı içecek otomatıdır. Kullanıcı çeşitli girdiler smoothie içeceğine koyacağı ürünleri belirleyebilir, fiyat hesaplaması yaptırabilir ya da sadece menüyü görüntüleyebilir.\n",
    "\n",
    "**Projenin Amacı:**\n",
    "\n",
    "*   Birbirini etkileyen ve bir kod içerisinde birden fazla defa başvurulacak fonksiyonların oluşturulup, \"fonksiyonel\" proglamlamak.\n",
    "*   Büyük programları yazarken, yazılımcı olarak yapabileceğimiz hatalardan kaçınmak için kontrol yöntemleri geliştirmek.\n",
    "*   Kullanıcı inputlarını ve yaptığımız hesapları, raporlamak/loglamak amacıyla kaydetmek.\n",
    "\n",
    "**Programdan Beklenen Çıktılar**\n",
    "* Program kullanıcıya temelde 2 farklı işlem yapma imkanı sağlar.\n",
    "> 1. Menüyü görüntüleme\n",
    "> 3. Satın alma\n",
    "* Satın alınan her içecek tarih, fiyat bilgisi ile kaydedilmeli ve her zaman ulaşılabilir olmalıdır.\n",
    "\n",
    "\n"
   ]
  },
  {
   "cell_type": "code",
   "execution_count": null,
   "metadata": {},
   "outputs": [],
   "source": [
    "# 2.Problemin Çözümünü Buraya Yazınız"
   ]
  }
 ],
 "metadata": {
  "kernelspec": {
   "display_name": "Python 3",
   "language": "python",
   "name": "python3"
  },
  "language_info": {
   "codemirror_mode": {
    "name": "ipython",
    "version": 3
   },
   "file_extension": ".py",
   "mimetype": "text/x-python",
   "name": "python",
   "nbconvert_exporter": "python",
   "pygments_lexer": "ipython3",
   "version": "3.10.11"
  },
  "orig_nbformat": 4,
  "vscode": {
   "interpreter": {
    "hash": "5026d2d6e7aaaaba093def813beadff083d8733e4a511af01735cbabd156995d"
   }
  }
 },
 "nbformat": 4,
 "nbformat_minor": 2
}
