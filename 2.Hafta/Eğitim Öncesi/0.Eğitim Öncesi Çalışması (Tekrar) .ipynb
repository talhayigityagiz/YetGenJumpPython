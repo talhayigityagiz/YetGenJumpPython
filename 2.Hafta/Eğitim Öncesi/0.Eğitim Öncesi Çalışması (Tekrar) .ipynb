{
 "cells": [
  {
   "cell_type": "code",
   "execution_count": 2,
   "metadata": {},
   "outputs": [
    {
     "ename": "NameError",
     "evalue": "name 'Print' is not defined",
     "output_type": "error",
     "traceback": [
      "\u001b[1;31m---------------------------------------------------------------------------\u001b[0m",
      "\u001b[1;31mNameError\u001b[0m                                 Traceback (most recent call last)",
      "Cell \u001b[1;32mIn[2], line 1\u001b[0m\n\u001b[1;32m----> 1\u001b[0m Print(\u001b[39m\"\u001b[39m\u001b[39mHello World\u001b[39m\u001b[39m\"\u001b[39m)\n",
      "\u001b[1;31mNameError\u001b[0m: name 'Print' is not defined"
     ]
    }
   ],
   "source": [
    "Print(\"Hello World\")\n"
   ]
  },
  {
   "cell_type": "code",
   "execution_count": 3,
   "metadata": {},
   "outputs": [
    {
     "name": "stdout",
     "output_type": "stream",
     "text": [
      "Hello world\n"
     ]
    }
   ],
   "source": [
    "print(\"Hello world\")"
   ]
  },
  {
   "cell_type": "code",
   "execution_count": 4,
   "metadata": {},
   "outputs": [
    {
     "name": "stdout",
     "output_type": "stream",
     "text": [
      "Hello,World\n"
     ]
    }
   ],
   "source": [
    "print(\"Hello\", \"World\", sep=\",\") #sep= ifadesine ne yazılırsa arasına onu koyar"
   ]
  },
  {
   "cell_type": "code",
   "execution_count": 5,
   "metadata": {},
   "outputs": [
    {
     "name": "stdout",
     "output_type": "stream",
     "text": [
      "Python/Jump\n"
     ]
    }
   ],
   "source": [
    "print(\"Python\", \"Jump\", sep=\"/\") # aralara , koyulmalı"
   ]
  },
  {
   "cell_type": "code",
   "execution_count": 6,
   "metadata": {},
   "outputs": [
    {
     "name": "stdout",
     "output_type": "stream",
     "text": [
      "Python öğreniyorum."
     ]
    }
   ],
   "source": [
    "print(\"Python öğreniyorum\", end=\".\") #end= ifadesi en sona ne koyulacağını belirtir"
   ]
  },
  {
   "cell_type": "code",
   "execution_count": 8,
   "metadata": {},
   "outputs": [
    {
     "name": "stdout",
     "output_type": "stream",
     "text": [
      "YetGen\n"
     ]
    }
   ],
   "source": [
    "isim = \"YetGen\" #Değişken atarken türkçe karakter olmamasına dikkat\n",
    "print(isim) #Değişkenlerde çift tırnak gerekmez"
   ]
  },
  {
   "cell_type": "code",
   "execution_count": 9,
   "metadata": {},
   "outputs": [
    {
     "name": "stdout",
     "output_type": "stream",
     "text": [
      "<class 'str'>\n",
      "<class 'str'>\n",
      "<class 'str'>\n"
     ]
    }
   ],
   "source": [
    "print(type(\"1\"))\n",
    "print(type(\"number\")) #tırnak içine yazılan her şey yazı olarak algılanır\n",
    "print(type(\"3.14\"))\n",
    "\n"
   ]
  },
  {
   "cell_type": "code",
   "execution_count": 10,
   "metadata": {},
   "outputs": [
    {
     "name": "stdout",
     "output_type": "stream",
     "text": [
      "<class 'int'>\n",
      "<class 'str'>\n",
      "<class 'float'>\n"
     ]
    }
   ],
   "source": [
    "print(type(1))\n",
    "print(type(\"number\")) #type ile yazdığımız şeyin sayı mı yazı mı ondalıklı mı olduğunu anlarız \n",
    "print(type(3.14))\n"
   ]
  },
  {
   "cell_type": "code",
   "execution_count": 12,
   "metadata": {},
   "outputs": [
    {
     "name": "stdout",
     "output_type": "stream",
     "text": [
      "Talha Yağız 23\n",
      "TalhaYağız\n"
     ]
    }
   ],
   "source": [
    "isim= \"Talha\" \n",
    "soyisim= \"Yağız\"\n",
    "yas = 23\n",
    "print(isim , soyisim , yas)\n",
    "print(isim + \"\" + soyisim)"
   ]
  },
  {
   "cell_type": "code",
   "execution_count": 13,
   "metadata": {},
   "outputs": [
    {
     "name": "stdout",
     "output_type": "stream",
     "text": [
      "<class 'bool'>\n"
     ]
    }
   ],
   "source": [
    "canvarmi = True\n",
    "print(type(canvarmi)) #bool sadece true ya da false değer yazdırır"
   ]
  },
  {
   "cell_type": "code",
   "execution_count": 14,
   "metadata": {},
   "outputs": [
    {
     "name": "stdout",
     "output_type": "stream",
     "text": [
      "3\n"
     ]
    }
   ],
   "source": [
    "sayi1 = input(\"sayı giriniz:\") #input kullanıcının değer girmesini sağlar\n",
    "print(sayi1)"
   ]
  },
  {
   "cell_type": "code",
   "execution_count": 18,
   "metadata": {},
   "outputs": [
    {
     "name": "stdout",
     "output_type": "stream",
     "text": [
      "sayi2sayi3\n",
      "5\n"
     ]
    }
   ],
   "source": [
    "sayi2 = int(input(\"sayı giriniz:\"))\n",
    "sayi3 = int(input(\"sayı giriniz:\")) #int ya da float değerleri girildiğinde toplama yapılabilir\n",
    "print(f\"sayi2\" \"sayi3\")\n",
    "print(sayi2 + sayi3)"
   ]
  },
  {
   "cell_type": "code",
   "execution_count": 19,
   "metadata": {},
   "outputs": [
    {
     "name": "stdout",
     "output_type": "stream",
     "text": [
      "18\n",
      "12\n"
     ]
    }
   ],
   "source": [
    "print(10 + 8)\n",
    "print(3 * 4) #Tüm matematiksel işlemleri yaptırabilirim"
   ]
  }
 ],
 "metadata": {
  "kernelspec": {
   "display_name": "Python 3",
   "language": "python",
   "name": "python3"
  },
  "language_info": {
   "codemirror_mode": {
    "name": "ipython",
    "version": 3
   },
   "file_extension": ".py",
   "mimetype": "text/x-python",
   "name": "python",
   "nbconvert_exporter": "python",
   "pygments_lexer": "ipython3",
   "version": "3.10.8 (tags/v3.10.8:aaaf517, Oct 11 2022, 16:50:30) [MSC v.1933 64 bit (AMD64)]"
  },
  "orig_nbformat": 4,
  "vscode": {
   "interpreter": {
    "hash": "cd10ceee86f2cd166215356af1937864b06d957bea63f67eb4dd85267597c561"
   }
  }
 },
 "nbformat": 4,
 "nbformat_minor": 2
}
