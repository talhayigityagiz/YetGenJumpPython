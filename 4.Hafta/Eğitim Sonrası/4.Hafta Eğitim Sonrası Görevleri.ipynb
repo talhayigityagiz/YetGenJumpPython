{
 "cells": [
  {
   "cell_type": "markdown",
   "metadata": {},
   "source": [
    "# Problem 1\n",
    "`ogrenciler` adında bir sözlük oluşturunuz. Kullanıcıdan döngü yardımıyla 3 öğrenci için veri girmesini isteyerek öğrencilerin sırasıyla okul numarası, isim, soy isim, telefon numarası ve doğum tarihi bilgilerini alınız. Aldığınız öğrenci bilgilerini yine aynı döngü yardımıyla `ogrenciler` adındaki sözlükte saklayınız. Daha sonra öğrenci bilgilerinin bulunduğu sözlük yapısını ekrana bastırınız.\n",
    "\n"
   ]
  },
  {
   "cell_type": "code",
   "execution_count": 26,
   "metadata": {},
   "outputs": [
    {
     "name": "stdout",
     "output_type": "stream",
     "text": [
      "{'isim 1': 'Talha', 'soy isim 1': 'Yağız', 'telefon numarası 1': '541', 'doğum tarihi 1': '2004', 'isim 2': 'Yiğit', 'soy isim 2': 'Yağız', 'telefon numarası 2': '536', 'doğum tarihi 2': '2004', 'isim 3': 'Adnan', 'soy isim 3': 'Yağız', 'telefon numarası 3': '532', 'doğum tarihi 3': '1978'}\n"
     ]
    }
   ],
   "source": [
    "# 1.Problemin Çözümünü Buraya Yazınız\n",
    "\n",
    "ogrenciler = dict()\n",
    "\n",
    "ogrencisayisi = 0 \n",
    "\n",
    "kacinci = 1\n",
    "\n",
    "while ogrencisayisi < 3 :\n",
    "    i = str(input(f\"{kacinci}. Öğrencinin ismini giriniz: \"))\n",
    "    ogrenciler[f\"isim {kacinci}\"] = i\n",
    "    s = str(input(f\"{kacinci}. Öğrencinin soy ismini giriniz: \"))\n",
    "    ogrenciler[f\"soy isim {kacinci}\"] = s\n",
    "    tel= (input(\"Öğrencinin telefon numarasını giriniz: \"))\n",
    "    ogrenciler[f\"telefon numarası {kacinci}\"] = tel\n",
    "    dg = (input(\"Öğrencinin doğum tarihini giriniz: \"))\n",
    "    ogrenciler[f\"doğum tarihi {kacinci}\"] = dg\n",
    "    \n",
    "    \n",
    "    ogrencisayisi += 1\n",
    "    kacinci += 1\n",
    "else:\n",
    "    print(ogrenciler)"
   ]
  },
  {
   "cell_type": "markdown",
   "metadata": {},
   "source": [
    "# Problem 2\n",
    "\n",
    "### a - Biraz ısınarak başlayalım!\n",
    "\n",
    "```\n",
    "numbers = [5,10,10,15,15,15,20,20,20,20]\n",
    "```\n",
    "\n",
    "Yukarıda `numbers` adında 10 elemanlı bir liste verilmiştir. Bu listenin her elemanını kontrol eden ve tekrar eden elemanları bir kez olacak şekilde başka bir listeye kopyalayan bir program yazınız. Son olarak oluşturduğunuz listeyi ekrana bastırınız.\n",
    "\n",
    "\n",
    "\n",
    "\n",
    "```\n",
    ">Output\n",
    "[5, 10, 15, 20]\n",
    "```\n"
   ]
  },
  {
   "cell_type": "code",
   "execution_count": 16,
   "metadata": {},
   "outputs": [
    {
     "name": "stdout",
     "output_type": "stream",
     "text": [
      "[5, 10, 15, 20]\n"
     ]
    }
   ],
   "source": [
    "# 2.Problemin a Şıkkının Çözümünü Buraya Yazınız\n",
    "\n",
    "numbers = [5,10,10,15,15,15,20,20,20,20]\n",
    "\n",
    "new_list = []\n",
    "c = 0\n",
    "\n",
    "while c < 10 :\n",
    "    if numbers[c] in new_list:\n",
    "        c += 1\n",
    "    else:\n",
    "        new_list.append(numbers[c])\n",
    "        c += 1\n",
    "    \n",
    "else:\n",
    "    print(new_list)"
   ]
  },
  {
   "cell_type": "markdown",
   "metadata": {},
   "source": [
    "### 🌶️ b) Hadi işi biraz daha zorlaştıralım! \n",
    "\n",
    "\n",
    "Şimdiyse senden `numbers` isimli listedeki tekrar eden elemanları `repeatNumbers` adındaki listeye; tekrar etmeyen elemanları `uniqueNumbers`adındaki listeye kopyalayan yazmanı ve listeleri ekrana bastırmanı bekliyoruz\n",
    "\n",
    "```\n",
    ">Output\n",
    "Tekrar Eden Elemanlar: [10, 10, 15, 15, 15, 20, 20, 20, 20]\n",
    "Tekrar Etmeyen Elemanlar: [5]\n",
    "```"
   ]
  },
  {
   "cell_type": "code",
   "execution_count": 17,
   "metadata": {},
   "outputs": [
    {
     "name": "stdout",
     "output_type": "stream",
     "text": [
      "[10, 15, 20]\n",
      "[5]\n"
     ]
    }
   ],
   "source": [
    "# 2.Problemin b Şıkkının Çözümünü Buraya Yazınız\n",
    "\n",
    "numbers = [5,10,10,15,15,15,20,20,20,20]\n",
    "\n",
    "repeatNumbers = []\n",
    "\n",
    "uniqueNumbers = []\n",
    "\n",
    "c = 0 \n",
    "\n",
    "while c < 10 :\n",
    "    if numbers.count(numbers[c]) != 1 :\n",
    "        if numbers[c] in repeatNumbers:\n",
    "            c += 1\n",
    "        else: \n",
    "            repeatNumbers.append(numbers[c])\n",
    "            c += 1\n",
    "    else:\n",
    "        uniqueNumbers.append(numbers[c])\n",
    "        c += 1\n",
    "else:\n",
    "    print(repeatNumbers) \n",
    "    print(uniqueNumbers)"
   ]
  },
  {
   "cell_type": "markdown",
   "metadata": {},
   "source": [
    "# Problem 3\n",
    "sn1 = {1,2,3,4,5}\n",
    "\n",
    "sn2 = {4,5,6,7,8}\n",
    "\n",
    " Verilen 2 adet küme için kesişimlerini, farklarını ve birleşimlerini bulunuz. "
   ]
  },
  {
   "cell_type": "code",
   "execution_count": 28,
   "metadata": {},
   "outputs": [
    {
     "name": "stdout",
     "output_type": "stream",
     "text": [
      "Kesişim Kümesi =  {4, 5}\n",
      "Fark Kümesi =  {1, 2, 3}\n",
      "Birleşim Kümesi =  {1, 2, 3, 4, 5, 6, 7, 8}\n"
     ]
    }
   ],
   "source": [
    "# 3.Problemin Çözümünü Buraya Yazınız\n",
    "sn1 = {1,2,3,4,5}\n",
    "\n",
    "sn2 = {4,5,6,7,8}\n",
    "\n",
    "print(\"Kesişim Kümesi = \" , sn1.intersection(sn2))\n",
    "print(\"Fark Kümesi = \" , sn1.difference(sn2))\n",
    "print(\"Birleşim Kümesi = \" , sn1.union(sn2))\n",
    "\n",
    "\n"
   ]
  },
  {
   "cell_type": "markdown",
   "metadata": {},
   "source": [
    "# Problem 4\n",
    "\n",
    "Buradaki işlemlerimizin tamamı stringler içindir. Aşağıda verilecek olan metodlar için kendinizin örnek yaratması gerekmektedir. \n",
    "\n",
    "Örneğin `upper` için `string` değişkeni oluştururken` k = \"BAC\"` şeklinde oluşturmayınız. Bunun yerine k değişkenini `k = \"bac`\" şeklinde oluşturmanız `upper` metodundaki değişimi görebilmeniz için daha iyi olacaktır.\n",
    "\n",
    "Bütün metodlardaki değişimin gözle görülür şekilde değişimi beklenmektedir.\n",
    "\n",
    "\n",
    "1- capitalize(), lower(), upper(), swapcase(), title(), replace()\n",
    "\n",
    "2- endswith(), startswith(), find(), index(), count()\n",
    "\n",
    "3- split(), strip(), join(), islower(), isalpha(), isdigit()\n",
    "\n",
    "\n",
    "Yukarıdaki `string` metodlarındaki değişimleri görebildiğimiz bir program yazınız.\n"
   ]
  },
  {
   "cell_type": "code",
   "execution_count": 52,
   "metadata": {},
   "outputs": [
    {
     "name": "stdout",
     "output_type": "stream",
     "text": [
      "yETGEN\n",
      "Yetgen\n",
      "yetgen\n",
      "YETGEN\n",
      "Yetgen\n",
      "JumpPython\n",
      "True\n",
      "True\n",
      "11\n",
      "0\n",
      "3\n",
      "['Merhaba', '38.Yetgen', 'Olimpiyatlarına', 'Hoşgeldiniz', '!']\n",
      "Muz\n",
      "Ananas/Muz/Avakado/Muz/Çilek/Muz\n",
      "False\n",
      "False\n",
      "True\n"
     ]
    }
   ],
   "source": [
    "# 4.Problemin Çözümünü Buraya Yazınız\n",
    "\n",
    "i = \"yETGEN\"\n",
    "\n",
    "print(i)\n",
    "i.capitalize()\n",
    "print(i.capitalize())\n",
    "\n",
    "i.lower()\n",
    "print(i.lower())\n",
    "\n",
    "i.upper()\n",
    "print(i.upper())\n",
    "\n",
    "i.swapcase()\n",
    "print(i.swapcase())\n",
    "\n",
    "i.replace(\"yETGEN\" , \"JumpPython\")\n",
    "print(i.replace(\"yETGEN\" , \"JumpPython\"))\n",
    "\n",
    "i.endswith(\"N\")\n",
    "print(i.endswith(\"N\"))\n",
    "\n",
    "i.startswith(\"y\")\n",
    "print(i.startswith(\"y\"))\n",
    "\n",
    "d = \"Merhaba 38.Yetgen Olimpiyatlarına Hoşgeldiniz !\"\n",
    "\n",
    "d.find(\"Yetgen\")\n",
    "print(d.find(\"Yetgen\"))\n",
    "\n",
    "meyveler = [\"Ananas\" , \"Muz\", \"Avakado\" , \"Muz\" , \"Çilek\" , \"Muz\"]\n",
    "\n",
    "meyveler.index(\"Ananas\")\n",
    "print(meyveler.index(\"Ananas\"))\n",
    "\n",
    "meyveler.count(\"Muz\")\n",
    "print(meyveler.count(\"Muz\"))\n",
    "\n",
    "d.split()\n",
    "print(d.split())\n",
    "\n",
    "f = \"       Muz      \"\n",
    "f.strip()\n",
    "print(f.strip())\n",
    "\n",
    "\"/\".join(meyveler)\n",
    "print(\"/\".join(meyveler))\n",
    "\n",
    "f.islower()\n",
    "print(f.islower())\n",
    "\n",
    "f.isalpha()\n",
    "print(f.isalpha())\n",
    "\n",
    "g = \"122345\"\n",
    "\n",
    "g.isdigit()\n",
    "print(g.isdigit())"
   ]
  }
 ],
 "metadata": {
  "kernelspec": {
   "display_name": "Python 3.10.5 64-bit",
   "language": "python",
   "name": "python3"
  },
  "language_info": {
   "codemirror_mode": {
    "name": "ipython",
    "version": 3
   },
   "file_extension": ".py",
   "mimetype": "text/x-python",
   "name": "python",
   "nbconvert_exporter": "python",
   "pygments_lexer": "ipython3",
   "version": "3.10.10"
  },
  "orig_nbformat": 4,
  "vscode": {
   "interpreter": {
    "hash": "5026d2d6e7aaaaba093def813beadff083d8733e4a511af01735cbabd156995d"
   }
  }
 },
 "nbformat": 4,
 "nbformat_minor": 2
}
