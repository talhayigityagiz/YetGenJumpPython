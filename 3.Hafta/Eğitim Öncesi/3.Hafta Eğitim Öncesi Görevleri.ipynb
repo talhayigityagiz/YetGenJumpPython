{
  "cells": [
    {
      "cell_type": "markdown",
      "metadata": {
        "id": "tsD4YVAe_Te2"
      },
      "source": [
        "# Problem 1\n",
        "Bir sayının 7'ye bölünebilir olup olmadığını kontrol etmek \n",
        "için bir program yazın.\n",
        "\n",
        "İpucu: Mod operatörünü (%) kullanabilirsiniz."
      ]
    },
    {
      "cell_type": "code",
      "execution_count": 6,
      "metadata": {
        "id": "NGjvNwKx_Te7"
      },
      "outputs": [
        {
          "name": "stdout",
          "output_type": "stream",
          "text": [
            "8 7'ye tam bölünmez, lütfen doğru bir değer giriniz.\n"
          ]
        }
      ],
      "source": [
        "# 1.Problemin Çözümünü Buraya Yazınız\n",
        "\n",
        "x = int(input(\"Bir Sayı Giriniz: \"))\n",
        "\n",
        "if x % 7 == 0 :\n",
        "    print(f\" {x} 7'ye tam bölünür.\")\n",
        "    \n",
        "else :\n",
        "    print(f\"{x} 7'ye tam bölünmez, lütfen doğru bir değer giriniz.\")\n",
        "    \n"
      ]
    },
    {
      "cell_type": "markdown",
      "metadata": {
        "id": "Kg3qiBAI_Te8"
      },
      "source": [
        "# Problem 2\n",
        "Kullanıcıdan vize ve final notu isteyin. Girilen vize notunun %40’ı ve \n",
        "girilen finalnotunun ise %60’ı alınarak yıl sonu not ortalaması hesaplanacaktır. \n",
        "\n",
        "Bu not ortalaması eğer 85 ve üzeri ise AA, \n",
        "\n",
        "75 ve 85 arasında ise BA, \n",
        "\n",
        "70 ve 75 arasında ise BB, \n",
        "\n",
        "65 ve 70 arasında ise CB,\n",
        "\n",
        "60 ve 65 arasında ise CC,\n",
        "\n",
        "55 ve 60 arasında ise DC,\n",
        "\n",
        "50 ve 55 arasında ise DD olarak hesaplanacaktır. \n",
        "\n",
        "Bu öğrencinin yıl sonu toplam notu 50’nin altında ise FF ile dersten kalacaktır. \n",
        "\n",
        "Ayrıca öğrencinin final notu 50’nin altında ise direkt FF ile kalacaktır."
      ]
    },
    {
      "cell_type": "code",
      "execution_count": 8,
      "metadata": {
        "id": "MXTtCxI1_Te8"
      },
      "outputs": [
        {
          "name": "stdout",
          "output_type": "stream",
          "text": [
            "Ortalamanız DC. Daha Çok Çalışmalısın.\n"
          ]
        }
      ],
      "source": [
        "# 2.Problemin Çözümünü Buraya Yazınız\n",
        "\n",
        "vize = int(input(\"Vize Notunuzu Giriniz: \"))\n",
        "final = int(input(\"Final Notunuzu Giriniz: \"))\n",
        "\n",
        "ortalama = int((((vize * 40 / 100) + (final * 60 / 100))))\n",
        "\n",
        "if final < 50 :\n",
        "    print(\"Üzgünüz, Final Notunuz 50'nin Altında Olduğu İçin Kaldınız. Notunuz FF\")\n",
        "else:\n",
        "    if ortalama >= 85 :\n",
        "        print(\"Tebrikler! Ortalamanız AA.\")\n",
        "        \n",
        "    elif ortalama >= 75 :\n",
        "        print(\"Tebrikler! Ortalamanız BA.\")\n",
        "\n",
        "    elif ortalama >= 70 :\n",
        "        print(\"Tebrikler! Ortalamanız BB.\")\n",
        "\n",
        "    elif ortalama >= 65 :\n",
        "        print(\"Ortalamanız CB.\")\n",
        "\n",
        "    elif ortalama >= 60 :\n",
        "        print(\"Ortalamanız CC.\")\n",
        "\n",
        "    elif ortalama >= 55 :\n",
        "        print(\"Ortalamanız DC. Daha Çok Çalışmalısın.\")\n",
        "\n",
        "    elif ortalama >= 50 :\n",
        "        print(\"Ortalamanız DD. Daha Çok Çalışmalısın.\")\n",
        "\n",
        "    else :\n",
        "        print(\"Notunuz FF. Ne Yazık Ki Dersten Kaldınız.\")\n",
        "        "
      ]
    },
    {
      "cell_type": "markdown",
      "metadata": {
        "id": "tAoRYCTC_Te8"
      },
      "source": [
        "# Problem 3\n",
        "İki YetGenli Zirve'de karşılaşıyorlar. Birbirlerini tanımak için sorular soruyorlar. Birbirlerine yaşlarını soruyorlar. Akıllarına bir Python programı yazıp, yaşlarını ve isimlerini giriyorlar. Büyük olanın yaşını ekrana yazdıran programı yazıyorlar. Sende bu iki YetGenli'ye destek olmak ister misin?\n",
        "\n",
        "```\n",
        "Birinci YetGenlinin ismi: Ahmet\n",
        "Birinci YetGenlinin yaşı : 20\n",
        "İkinci YetGenlinin ismi: Mehmet\n",
        "İkinci YetGenlinin yaşı : 25\n",
        "Mehmet'in yaşı daha büyük ve yaşı 25'tir.\n",
        "```"
      ]
    },
    {
      "cell_type": "code",
      "execution_count": 10,
      "metadata": {
        "id": "bPjE8W0i_Te8"
      },
      "outputs": [
        {
          "name": "stdout",
          "output_type": "stream",
          "text": [
            "Mustafa Yaşı Daha Büyük ve Yaşı 25'dir.\n"
          ]
        }
      ],
      "source": [
        "# 3.Problemin Çözümünü Buraya Yazınız\n",
        "\n",
        "YetGenli1 = str(input(\"Lütfen 1.YetGenli'nin İsmini Giriniz: \"))\n",
        "YetGenli2 = str(input(\"Lütfen 2.YetGenli'nin İsmini Giriniz: \"))\n",
        "\n",
        "Yas1 = int(input(f\" {YetGenli1} Lütfen Yaşınızı Giriniz: \"))\n",
        "Yas2 = int(input(f\" {YetGenli2} Lütfen Yaşınızı Giriniz: \"))\n",
        "\n",
        "if Yas1 > Yas2:\n",
        "    print(f\"{YetGenli1} Yaşı Daha Büyük ve Yaşı {Yas1}'dir.\")\n",
        "else:\n",
        "    print(f\"{YetGenli2} Yaşı Daha Büyük ve Yaşı {Yas2}'dir.\")"
      ]
    },
    {
      "cell_type": "markdown",
      "metadata": {
        "id": "zBVv8Tyg_Te9"
      },
      "source": [
        "# Problem 4\n",
        "Pandemi döneminde AVM'lerde ateş ölçümü yapılıyor. AVM'ye giren kişinin ateş ölçümü 37.5 derecenin altında ise girişe izin veriliyor. 37.5 derecenin üstünde ise girişe izin verilmiyor. AVM'ye girişe izin verilip verilmediğini ekrana yazdıran bir program yazın.\n",
        "\n",
        "Program sonunda şöyle bir çıktı elde etmelisiniz:\n",
        "\n",
        "```\n",
        "Ateşiniz 37.5 derece. AVM'ye girebilirsin! Maske takmayı unutma!\n",
        "Ateşiniz 37.6 derece. AVM'ye giremezsin! Hemen evine dön!\n",
        "```"
      ]
    },
    {
      "cell_type": "code",
      "execution_count": 15,
      "metadata": {
        "id": "TSAXs8et_Te9"
      },
      "outputs": [
        {
          "name": "stdout",
          "output_type": "stream",
          "text": [
            "Ateşiniz 38.0 derece. AVM YET'e Girişiniz Tehlikeli ve Yasaktır. Lütfen Acilen Doktorunuza Danışınız !\n"
          ]
        }
      ],
      "source": [
        "# 4.Problemin Çözümünü Buraya Yazınız\n",
        "\n",
        "ates = float(input(\"Lütfen kişinin Ateş Ölçüm Sonucunu Giriniz: \"))\n",
        "\n",
        "if ates > 37.5 :\n",
        "    print(f\"Ateşiniz {ates} derece. AVM YET'e Girişiniz Tehlikeli ve Yasaktır. Lütfen Acilen Doktorunuza Danışınız !\")\n",
        "    \n",
        "elif ates <= 37.5 :\n",
        "    print(f\"Ateşiniz {ates} derecedir. AVM YET'e Girişinize İzin verilmiştir. Sağlıklı Günler dileriz !\")"
      ]
    },
    {
      "cell_type": "markdown",
      "metadata": {
        "id": "6AEkZrDt_Te9"
      },
      "source": [
        "# Problem 5\n",
        "YetGen bir spor kulübüyle sponsorluk anlaşması yapıyor. Kulüp, sponsorluk anlaşmasına göre her YetGen liderinin beden kitle indeksini hesaplamak istiyor. Spor kulübü, beden kitle indeksini hesaplamak için YetGen Jump Python liderlerinden Berkcan ve Ahmet'i arıyor. Berkcan ve Ahmet, kulübe yardımcı olmak için bir Python programı yazıyorlar. Sende bu iki YetGen liderine destek olmak ister misin?\n",
        "\n",
        "Kullanıcıdan alınan boy ve kilo değerlerine göre beden kitle indeksini hesaplayın ve şu kurallara göre ekrana şu yazıları yazdırın.\n",
        "\n",
        "\n",
        "Beden Kitle İndeksi, kişinin ağırlığının (kg olarak) boyunun karesine (m olarak) bölünmesiyle hesaplanır.\n",
        "\n",
        "\n",
        "```\n",
        " BKİ 18.5'un altındaysa -------> Zayıf\n",
        "\n",
        " BKİ 18.5 ile 25 arasındaysa ------> Normal\n",
        "\n",
        " BKİ 25 ile 30 arasındaysa --------> Fazla Kilolu\n",
        "\n",
        " BKİ 30'un üstündeyse -------------> Obez\n",
        "```\n",
        "\n"
      ]
    },
    {
      "cell_type": "code",
      "execution_count": 29,
      "metadata": {
        "id": "t-XPI_u0_Te-"
      },
      "outputs": [
        {
          "name": "stdout",
          "output_type": "stream",
          "text": [
            "Hesaplamaya Gerek Yok En iyisi Sensin.\n"
          ]
        }
      ],
      "source": [
        "# 5.Problemin Çözümünü Buraya Yazınız\n",
        "\n",
        "lider = str(input(\"Lütfen Lider İsmini giriniz: \"))\n",
        "kilo = float(input(f\" {lider} Lütfen Kilonuzu Giriniz: \"))\n",
        "boy = float(input(f\" {lider} Lütfen Boyunuzu Metre Cinsinden Giriniz: \"))\n",
        "\n",
        "bki = (kilo / (boy ** 2))\n",
        "if lider == \"Mustafa\" :\n",
        "    print(\"Hesaplamaya Gerek Yok En iyisi Sensin.\")\n",
        "else:  \n",
        "    if bki > 30 :\n",
        "        print(f\"Merhaba {lider}. Beden Kitle İndeksiniz {bki}. Obez kategorisindesiniz\")\n",
        "    elif bki > 25 :\n",
        "        print(f\"Merhaba {lider}. Beden Kitle İndeksiniz {bki}. Fazla Kilolu kategorisindesiniz\")\n",
        "    elif bki > 18.5 :\n",
        "        print(f\"Merhaba {lider}. Beden Kitle İndeksiniz {bki}. Normal kategorisindesiniz\")\n",
        "    elif bki < 18.5 :\n",
        "        print(f\"Merhaba {lider}. Beden Kitle İndeksiniz {bki}. Zayıf kategorisindesiniz\")"
      ]
    },
    {
      "cell_type": "markdown",
      "metadata": {
        "id": "oFsvQyaO_Te-"
      },
      "source": [
        "# Problem 6\n",
        "Kullanıcıdan isim, yaş ve eğitim bilgilerini isteyip ehliyet alabilme  durumunu kontrol ediniz. \n",
        "\n",
        "Ehliyet alma koşulu en az 18 yaşında ve eğitim durumu lise ya da üniversite olmalıdır. "
      ]
    },
    {
      "cell_type": "code",
      "execution_count": 31,
      "metadata": {
        "id": "Tu2mcgco_Te-"
      },
      "outputs": [
        {
          "name": "stdout",
          "output_type": "stream",
          "text": [
            " Merhaba Talha. Ehliyet Almaya Uygunsunuz. Başvuru Yapabilirsiniz.\n"
          ]
        }
      ],
      "source": [
        "# 6.Problemin Çözümünü Buraya Yazınız\n",
        "\n",
        "isim = str(input(\"Lütfen İsminizi Giriniz: \"))\n",
        "yas = str(input(\"Lütfen Yaşınızı Giriniz: \"))\n",
        "egitim = str(input(\"Lütfen Eğitim Seviyenizi Giriniz: \"))\n",
        "\n",
        "if yas >= \"18\":\n",
        "    if egitim == \"Lise\" or \"lise\" or \"Üniversite\" or \"üniversite\" :\n",
        "        print(f\" Merhaba {isim}. Ehliyet Almaya Uygunsunuz. Başvuru Yapabilirsiniz.\")\n",
        "    else:\n",
        "        print(f\"Merhaba {isim}. Ehliyet Almak İçin Uygun Değilsiniz. Lütfen Kriterleri Tamamladığınız Zaman Tekrar Deneyiniz.\")\n",
        "elif yas < 18: \n",
        "    print(f\"Merhaba {isim}. Ehliyet Almak İçin Uygun Değilsiniz. Lütfen Kriterleri Tamamladığınız Zaman Tekrar Deneyiniz.\")"
      ]
    },
    {
      "cell_type": "markdown",
      "metadata": {
        "id": "eUkxVSAE_Te_"
      },
      "source": [
        "# Problem 7\n",
        "Bir yılın artık yıl olup olmadığını kontrol etmek için bir program yazın. \n",
        "Artık yıl kuralı:\n",
        "\n",
        "a) Eğer yılın son iki basamağı (00) ile bitmiyor ve yalnızca 4'e tam bölünüyorsa artık yıldır. Ya da, \n",
        "\n",
        "b) Eğer yıl 400'e tam bölünüyorsa artık yıldır.\n",
        "\n",
        "**Örneğin**\n",
        "```\n",
        "2017 artık yıl değildir.\n",
        "1900 artık yıl değildir\n",
        "2012 artık yıldır.\n",
        "2000 artık yıldır.\n",
        "```"
      ]
    },
    {
      "cell_type": "code",
      "execution_count": 55,
      "metadata": {
        "id": "4uWh8qUL_Te_"
      },
      "outputs": [
        {
          "name": "stdout",
          "output_type": "stream",
          "text": [
            " 2012 Artık Yıldır.\n"
          ]
        }
      ],
      "source": [
        "# 7.Problemin Çözümünü Buraya Yazınız\n",
        "\n",
        "yil = int(input(\"Lütfen Yıl Bilgisini Giriniz: \"))\n",
        "\n",
        "if yil % 400 == 0:\n",
        "    print(f\" {yil} Artık Yıldır.\")\n",
        "else:\n",
        "    if yil % 10 == 0:\n",
        "        print(f\" {yil} Artık Yıl Değildir.\")\n",
        "    elif yil % 4 == 0:\n",
        "        print(f\" {yil} Artık Yıldır.\")\n",
        "    elif yil % 2 or 3 or 5 or 6 or 7 or 8 or 9 == 0 :\n",
        "        print(f\" {yil} Artık Yıl Değildir.\")\n",
        "    "
      ]
    },
    {
      "cell_type": "code",
      "execution_count": null,
      "metadata": {},
      "outputs": [],
      "source": []
    }
  ],
  "metadata": {
    "colab": {
      "provenance": []
    },
    "kernelspec": {
      "display_name": "Python 3.10.5 64-bit",
      "language": "python",
      "name": "python3"
    },
    "language_info": {
      "name": "python",
      "version": "3.10.5"
    },
    "orig_nbformat": 4,
    "vscode": {
      "interpreter": {
        "hash": "5026d2d6e7aaaaba093def813beadff083d8733e4a511af01735cbabd156995d"
      }
    }
  },
  "nbformat": 4,
  "nbformat_minor": 0
}
